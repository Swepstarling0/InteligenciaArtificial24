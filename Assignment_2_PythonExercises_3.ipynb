{
  "nbformat": 4,
  "nbformat_minor": 0,
  "metadata": {
    "colab": {
      "provenance": [],
      "authorship_tag": "ABX9TyO6saP8tnjNMP3La6HAnemd",
      "include_colab_link": true
    },
    "kernelspec": {
      "name": "python3",
      "display_name": "Python 3"
    },
    "language_info": {
      "name": "python"
    }
  },
  "cells": [
    {
      "cell_type": "markdown",
      "metadata": {
        "id": "view-in-github",
        "colab_type": "text"
      },
      "source": [
        "<a href=\"https://colab.research.google.com/github/Swepstarling0/InteligenciaArtificial24/blob/main/Assignment_2_PythonExercises_3.ipynb\" target=\"_parent\"><img src=\"https://colab.research.google.com/assets/colab-badge.svg\" alt=\"Open In Colab\"/></a>"
      ]
    },
    {
      "cell_type": "markdown",
      "source": [
        "Number gussing game"
      ],
      "metadata": {
        "id": "TiV6wr59dz8X"
      }
    },
    {
      "cell_type": "code",
      "source": [
        "import random"
      ],
      "metadata": {
        "id": "J4uCq-4Vfje2"
      },
      "execution_count": 13,
      "outputs": []
    },
    {
      "cell_type": "code",
      "execution_count": 29,
      "metadata": {
        "colab": {
          "base_uri": "https://localhost:8080/"
        },
        "id": "H4jvSCSucext",
        "outputId": "d8b27969-2b81-441c-bd95-a96816c233c9"
      },
      "outputs": [
        {
          "output_type": "stream",
          "name": "stdout",
          "text": [
            "30\n"
          ]
        }
      ],
      "source": [
        "Numbers = list(range(1,101))\n",
        "x = random.choice(Numbers)\n",
        "print(x)\n"
      ]
    },
    {
      "cell_type": "markdown",
      "source": [
        "Guesses\n"
      ],
      "metadata": {
        "id": "ErnuLXORfhLl"
      }
    },
    {
      "cell_type": "code",
      "source": [
        "\n",
        "guess = int(input(\"Enter a number: \"))\n",
        "if guess == x:\n",
        "    print(\"You win\")\n",
        "elif guess > x:\n",
        "    print(\"the answer is lower\")\n",
        "elif guess < x:\n",
        "    print(\"the answer is higher \")\n",
        "elif guess != x:\n",
        "\n"
      ],
      "metadata": {
        "colab": {
          "base_uri": "https://localhost:8080/"
        },
        "id": "oeYigxElfsab",
        "outputId": "24230730-1435-4f21-f25d-0716324b5a0c"
      },
      "execution_count": 35,
      "outputs": [
        {
          "output_type": "stream",
          "name": "stdout",
          "text": [
            "Enter a number: 50\n",
            "the answer is lower\n"
          ]
        }
      ]
    }
  ]
}