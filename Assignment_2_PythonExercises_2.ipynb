{
  "nbformat": 4,
  "nbformat_minor": 0,
  "metadata": {
    "colab": {
      "provenance": [],
      "authorship_tag": "ABX9TyPfGOIpQnJatVWliAD9S+94",
      "include_colab_link": true
    },
    "kernelspec": {
      "name": "python3",
      "display_name": "Python 3"
    },
    "language_info": {
      "name": "python"
    }
  },
  "cells": [
    {
      "cell_type": "markdown",
      "metadata": {
        "id": "view-in-github",
        "colab_type": "text"
      },
      "source": [
        "<a href=\"https://colab.research.google.com/github/Swepstarling0/InteligenciaArtificial24/blob/main/Assignment_2_PythonExercises_2.ipynb\" target=\"_parent\"><img src=\"https://colab.research.google.com/assets/colab-badge.svg\" alt=\"Open In Colab\"/></a>"
      ]
    },
    {
      "cell_type": "markdown",
      "source": [
        "Hangman game"
      ],
      "metadata": {
        "id": "ywsnd-IvWdf0"
      }
    },
    {
      "cell_type": "code",
      "source": [
        "import random\n",
        "\n",
        "\n",
        "movies = [\"the end of evangelion\", \"annie hall\", \"whiplash\", \"akira\", \"monty python and the holy grail\", \"nazarin\", \"dune\", \"naked lunch\", \"anatomy of a fall\",\n",
        "    \"dolemite\", \"a clockwork orange\", \"oppenheimer\", \"poor things\", \"priscilla\", \"lost in translation\",\n",
        "    \"paprika\", \"alucarda\", \"ereaserhead\", \"elephant man\", \"lost highway\", \"pulp fiction\", \"kill bill\"]\n",
        "\n",
        "\n",
        "def select_word():\n",
        "    return random.choice(movies)\n",
        "\n",
        "def display_word(word, guessed_letters):\n",
        "    return ' '.join([letter if letter in guessed_letters else '_' if letter != ' ' else ' ' for letter in word])\n",
        "\n",
        "def play_hangman():\n",
        "    word_to_guess = select_word()\n",
        "    guessed_letters = set()\n",
        "    attempts_left = 6\n",
        "\n",
        "\n",
        "\n",
        "    while attempts_left > 0:\n",
        "        print(f\"\\nmovie: {display_word(word_to_guess, guessed_letters)}\")\n",
        "        print(f\"Attempts left: {attempts_left}\")\n",
        "\n",
        "\n",
        "        guess = input(\"Enter a letter: \").lower()\n",
        "\n",
        "        if guess in guessed_letters:\n",
        "            print(\"You've already guessed that letter. Try another one.\")\n",
        "            continue\n",
        "\n",
        "        if guess in word_to_guess:\n",
        "            guessed_letters.add(guess)\n",
        "\n",
        "        else:\n",
        "            attempts_left -= 1\n",
        "\n",
        "\n",
        "        if all(letter in guessed_letters or letter == ' ' for letter in word_to_guess):\n",
        "            print(f\"\\nthe movie is: {word_to_guess}\")\n",
        "            break\n",
        "    else:\n",
        "        print(f\"\\nOut of attempts. the movie is: {word_to_guess}\")\n",
        "\n",
        "\n",
        "if __name__ == \"__main__\":\n",
        "    play_hangman()\n"
      ],
      "metadata": {
        "colab": {
          "base_uri": "https://localhost:8080/"
        },
        "id": "IRGIUJsWYewG",
        "outputId": "77aebb6f-4415-413a-ab7d-3249cc7c2973"
      },
      "execution_count": 29,
      "outputs": [
        {
          "output_type": "stream",
          "name": "stdout",
          "text": [
            "\n",
            "movie: _ _ _ _ _ _ _ _   _ _ _\n",
            "Attempts left: 6\n",
            "Enter a letter: m\n",
            "\n",
            "movie: _ _ _ _ _ _ _ _   m _ _\n",
            "Attempts left: 6\n",
            "Enter a letter: a\n",
            "\n",
            "movie: _ _ _ _ _ a _ _   m a _\n",
            "Attempts left: 6\n",
            "Enter a letter: n\n",
            "\n",
            "movie: _ _ _ _ _ a n _   m a n\n",
            "Attempts left: 6\n",
            "Enter a letter: e\n",
            "\n",
            "movie: e _ e _ _ a n _   m a n\n",
            "Attempts left: 6\n",
            "Enter a letter: l\n",
            "\n",
            "movie: e l e _ _ a n _   m a n\n",
            "Attempts left: 6\n",
            "Enter a letter: p\n",
            "\n",
            "movie: e l e p _ a n _   m a n\n",
            "Attempts left: 6\n",
            "Enter a letter: h\n",
            "\n",
            "movie: e l e p h a n _   m a n\n",
            "Attempts left: 6\n",
            "Enter a letter: t\n",
            "\n",
            "the movie is: elephant man\n"
          ]
        }
      ]
    }
  ]
}