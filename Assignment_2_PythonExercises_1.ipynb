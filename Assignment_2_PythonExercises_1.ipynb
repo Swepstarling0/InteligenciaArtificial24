{
  "nbformat": 4,
  "nbformat_minor": 0,
  "metadata": {
    "colab": {
      "provenance": [],
      "authorship_tag": "ABX9TyP5FcofPaGNVP8LQ5McokpM",
      "include_colab_link": true
    },
    "kernelspec": {
      "name": "python3",
      "display_name": "Python 3"
    },
    "language_info": {
      "name": "python"
    }
  },
  "cells": [
    {
      "cell_type": "markdown",
      "metadata": {
        "id": "view-in-github",
        "colab_type": "text"
      },
      "source": [
        "<a href=\"https://colab.research.google.com/github/Swepstarling0/InteligenciaArtificial24/blob/main/Assignment_2_PythonExercises_1.ipynb\" target=\"_parent\"><img src=\"https://colab.research.google.com/assets/colab-badge.svg\" alt=\"Open In Colab\"/></a>"
      ]
    },
    {
      "cell_type": "markdown",
      "source": [
        "Text Analysis tool"
      ],
      "metadata": {
        "id": "X1mNWz8JJds4"
      }
    },
    {
      "cell_type": "code",
      "source": [
        "from collections import Counter\n",
        "import re"
      ],
      "metadata": {
        "id": "vhFVncebUSR4"
      },
      "execution_count": 19,
      "outputs": []
    },
    {
      "cell_type": "markdown",
      "source": [
        "Amount of words"
      ],
      "metadata": {
        "id": "5KLuk-UKR56Q"
      }
    },
    {
      "cell_type": "code",
      "execution_count": 13,
      "metadata": {
        "colab": {
          "base_uri": "https://localhost:8080/"
        },
        "id": "O4zyqrfUJS1g",
        "outputId": "04427bda-3a3b-48bc-9c89-9875650cdd81"
      },
      "outputs": [
        {
          "output_type": "stream",
          "name": "stdout",
          "text": [
            "introduce the text you want to analyze: Today is cold and hard. The clouds freeze. The winds are tugging ropes. The people freeze. The footsteps sound metallic On ore-bearing stones, And the eyes look – Wide white lakes.  In the old town stand Small bright Christmas cottages, Their colourful windows look out Onto the snow-covered square. In the moonlight a silent man Walks into the snow, His big shadow is blown along the cottages by the wind.  People who cross dark bridges, past saints with dim little lights.  Clouds that drift across the grey sky past churches with twilight towers. One who leans against the ashlar parapet and looks into the evening water, hands on old stones.\n",
            "the amount of words is: 110\n"
          ]
        }
      ],
      "source": [
        "text = input(\"introduce the text you want to analyze: \")\n",
        "word_list = text.split()\n",
        "print(\"the amount of words is:\" , len(word_list))"
      ]
    },
    {
      "cell_type": "markdown",
      "source": [
        "Amount of sentences"
      ],
      "metadata": {
        "id": "jDdW9VCXSBTB"
      }
    },
    {
      "cell_type": "code",
      "source": [
        "sentence_list = text.split(\". \")\n",
        "print(\"the amount of sentences is:\" , len(sentence_list))"
      ],
      "metadata": {
        "colab": {
          "base_uri": "https://localhost:8080/"
        },
        "id": "F6Z74lLLSDPd",
        "outputId": "db309431-f732-48ff-bce0-cb440257e515"
      },
      "execution_count": 14,
      "outputs": [
        {
          "output_type": "stream",
          "name": "stdout",
          "text": [
            "the amount of sentences is: 10\n"
          ]
        }
      ]
    },
    {
      "cell_type": "markdown",
      "source": [
        "Amount of paragraphs"
      ],
      "metadata": {
        "id": "KDjFN50sSFCy"
      }
    },
    {
      "cell_type": "code",
      "source": [
        "paragraph_list = text.split(\"\\n\n\")\n",
        "print(\"the amount of paragraphs is:\" , len(paragraph_list))"
      ],
      "metadata": {
        "colab": {
          "base_uri": "https://localhost:8080/"
        },
        "id": "6MaNANllSHM7",
        "outputId": "524604ae-39a0-4a4f-8835-eabfd86ba71d"
      },
      "execution_count": 16,
      "outputs": [
        {
          "output_type": "stream",
          "name": "stdout",
          "text": [
            "the amount of paragraphs is: 1\n"
          ]
        }
      ]
    },
    {
      "cell_type": "markdown",
      "source": [
        "Most common words and frequencies"
      ],
      "metadata": {
        "id": "ZLj_JmeaSx8H"
      }
    },
    {
      "cell_type": "code",
      "source": [
        "words = re.findall(r'\\b\\w+\\b', text.lower())\n",
        "total_length = sum(len(word) for word in words)\n",
        "average_word_length = total_length / len(words)\n",
        "word_counts = Counter(words)\n",
        "most_common_words = word_counts.most_common()\n",
        "print(\"the most common words are:\" , most_common_words)\n",
        "print(\"the average word length is:\" , average_word_length)"
      ],
      "metadata": {
        "colab": {
          "base_uri": "https://localhost:8080/"
        },
        "id": "0GNjb_1jTiKX",
        "outputId": "95f5616c-bb0b-4d90-a1ea-caee6e1852de"
      },
      "execution_count": 21,
      "outputs": [
        {
          "output_type": "stream",
          "name": "stdout",
          "text": [
            "the most common words are: [('the', 14), ('and', 3), ('is', 2), ('clouds', 2), ('freeze', 2), ('people', 2), ('on', 2), ('stones', 2), ('look', 2), ('in', 2), ('old', 2), ('cottages', 2), ('snow', 2), ('into', 2), ('who', 2), ('past', 2), ('with', 2), ('today', 1), ('cold', 1), ('hard', 1), ('winds', 1), ('are', 1), ('tugging', 1), ('ropes', 1), ('footsteps', 1), ('sound', 1), ('metallic', 1), ('ore', 1), ('bearing', 1), ('eyes', 1), ('wide', 1), ('white', 1), ('lakes', 1), ('town', 1), ('stand', 1), ('small', 1), ('bright', 1), ('christmas', 1), ('their', 1), ('colourful', 1), ('windows', 1), ('out', 1), ('onto', 1), ('covered', 1), ('square', 1), ('moonlight', 1), ('a', 1), ('silent', 1), ('man', 1), ('walks', 1), ('his', 1), ('big', 1), ('shadow', 1), ('blown', 1), ('along', 1), ('by', 1), ('wind', 1), ('cross', 1), ('dark', 1), ('bridges', 1), ('saints', 1), ('dim', 1), ('little', 1), ('lights', 1), ('that', 1), ('drift', 1), ('across', 1), ('grey', 1), ('sky', 1), ('churches', 1), ('twilight', 1), ('towers', 1), ('one', 1), ('leans', 1), ('against', 1), ('ashlar', 1), ('parapet', 1), ('looks', 1), ('evening', 1), ('water', 1), ('hands', 1)]\n",
            "the average word length is: 4.63963963963964\n"
          ]
        }
      ]
    }
  ]
}
